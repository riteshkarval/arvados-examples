{
 "cells": [
  {
   "cell_type": "code",
   "execution_count": 1,
   "metadata": {},
   "outputs": [],
   "source": [
    "import boto3\n",
    "session = boto3.session.Session()"
   ]
  },
  {
   "cell_type": "code",
   "execution_count": 2,
   "metadata": {},
   "outputs": [],
   "source": [
    "s3_client = boto3.resource(\n",
    "    service_name='s3',\n",
    "    aws_access_key_id='3dnjzwsn4y8mhg03u0mdpucp2jrdcwlskvpmrd1ytdvfippou8',\n",
    "    aws_secret_access_key='',\n",
    "    endpoint_url='https://download.ce8i5.arvadosapi.com',\n",
    "    verify=False\n",
    ")"
   ]
  },
  {
   "cell_type": "code",
   "execution_count": 3,
   "metadata": {},
   "outputs": [],
   "source": [
    "my_bucket = s3_client.Bucket('ce8i5-4zz18-j45o88d58u7js60')"
   ]
  },
  {
   "cell_type": "code",
   "execution_count": 4,
   "metadata": {},
   "outputs": [
    {
     "name": "stderr",
     "output_type": "stream",
     "text": [
      "/usr/local/lib/python3.6/dist-packages/urllib3/connectionpool.py:988: InsecureRequestWarning: Unverified HTTPS request is being made to host 'download.ce8i5.arvadosapi.com'. Adding certificate verification is strongly advised. See: https://urllib3.readthedocs.io/en/latest/advanced-usage.html#ssl-warnings\n",
      "  InsecureRequestWarning,\n"
     ]
    },
    {
     "name": "stdout",
     "output_type": "stream",
     "text": [
      "CMU-1/\n",
      "CMU-1/Data0000.dat\n",
      "CMU-1/Data0001.dat\n",
      "CMU-1/Data0002.dat\n",
      "CMU-1/Data0003.dat\n",
      "CMU-1/Data0004.dat\n",
      "CMU-1/Data0005.dat\n",
      "CMU-1/Data0006.dat\n",
      "CMU-1/Data0007.dat\n",
      "CMU-1/Data0008.dat\n",
      "CMU-1/Data0009.dat\n",
      "CMU-1/Data0010.dat\n",
      "CMU-1/Data0011.dat\n",
      "CMU-1/Data0012.dat\n",
      "CMU-1/Data0013.dat\n",
      "CMU-1/Data0014.dat\n",
      "CMU-1/Data0015.dat\n",
      "CMU-1/Data0016.dat\n",
      "CMU-1/Data0017.dat\n",
      "CMU-1/Data0018.dat\n",
      "CMU-1/Data0019.dat\n",
      "CMU-1/Data0020.dat\n",
      "CMU-1/Data0021.dat\n",
      "CMU-1/Data0022.dat\n",
      "CMU-1/Index.dat\n",
      "CMU-1/Slidedat.ini\n",
      "CMU-1.mrxs\n"
     ]
    }
   ],
   "source": [
    "for file in my_bucket.objects.all():\n",
    "    print(file.key)"
   ]
  },
  {
   "cell_type": "code",
   "execution_count": 5,
   "metadata": {},
   "outputs": [
    {
     "name": "stderr",
     "output_type": "stream",
     "text": [
      "/usr/local/lib/python3.6/dist-packages/urllib3/connectionpool.py:988: InsecureRequestWarning: Unverified HTTPS request is being made to host 'download.ce8i5.arvadosapi.com'. Adding certificate verification is strongly advised. See: https://urllib3.readthedocs.io/en/latest/advanced-usage.html#ssl-warnings\n",
      "  InsecureRequestWarning,\n",
      "/usr/local/lib/python3.6/dist-packages/urllib3/connectionpool.py:988: InsecureRequestWarning: Unverified HTTPS request is being made to host 'download.ce8i5.arvadosapi.com'. Adding certificate verification is strongly advised. See: https://urllib3.readthedocs.io/en/latest/advanced-usage.html#ssl-warnings\n",
      "  InsecureRequestWarning,\n"
     ]
    }
   ],
   "source": [
    "my_bucket.download_file(Filename = 'temp',Key = 'CMU-1/Data0000.dat')"
   ]
  },
  {
   "cell_type": "code",
   "execution_count": null,
   "metadata": {},
   "outputs": [],
   "source": []
  }
 ],
 "metadata": {
  "kernelspec": {
   "display_name": "Python 3",
   "language": "python",
   "name": "python3"
  },
  "language_info": {
   "codemirror_mode": {
    "name": "ipython",
    "version": 3
   },
   "file_extension": ".py",
   "mimetype": "text/x-python",
   "name": "python",
   "nbconvert_exporter": "python",
   "pygments_lexer": "ipython3",
   "version": "3.6.8"
  }
 },
 "nbformat": 4,
 "nbformat_minor": 4
}
